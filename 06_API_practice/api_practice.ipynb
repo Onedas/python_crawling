{
 "cells": [
  {
   "cell_type": "code",
   "execution_count": 1,
   "metadata": {},
   "outputs": [],
   "source": [
    "import requests\n",
    "import json\n",
    "\n",
    "# import xmltodict ## xml을 dict로 만드는 module"
   ]
  },
  {
   "cell_type": "code",
   "execution_count": 16,
   "metadata": {},
   "outputs": [],
   "source": [
    "API_KEY = '67d9a8a82c9f787b6fe52dd6a49691c1'\n",
    "code_search_url = 'http://www.kobis.or.kr/kobisopenapi/webservice/rest/movie/searchMovieList.json'\n",
    "info_search_url = 'http://www.kobis.or.kr/kobisopenapi/webservice/rest/movie/searchMovieInfo.json'"
   ]
  },
  {
   "cell_type": "code",
   "execution_count": 12,
   "metadata": {},
   "outputs": [],
   "source": [
    "def movie_code_search(movie_name):\n",
    "    \n",
    "    params = {\"key\":API_KEY,\n",
    "             \"movieNm\":movie_name}\n",
    "    \n",
    "    response = requests.get(code_search_url, params)\n",
    "    movie_info = json.loads(response.text)\n",
    "    \n",
    "    with open('movie_code.json','w', encoding='UTF-8') as f:\n",
    "        json.dump(movie_info, f, indent=4, ensure_ascii=False)\n",
    "        \n",
    "    return movie_info['movieListResult']['movieList'][3]['movieCd']\n"
   ]
  },
  {
   "cell_type": "code",
   "execution_count": 13,
   "metadata": {},
   "outputs": [],
   "source": [
    "movie_code = movie_code_search('알라딘')"
   ]
  },
  {
   "cell_type": "code",
   "execution_count": 17,
   "metadata": {},
   "outputs": [],
   "source": [
    "def movie_info_search(movie_code):\n",
    "    params = {\"key\":API_KEY,\n",
    "             \"movieCd\":movie_code}\n",
    "    \n",
    "    response = requests.get(info_search_url,params)\n",
    "    movie_info = json.loads(response.text)\n",
    "    \n",
    "    with open('movie_info.json','w',encoding='utf-8') as f:\n",
    "        json.dump(movie_info, f, indent=4, ensure_ascii=False)\n",
    "        \n",
    "    \n"
   ]
  },
  {
   "cell_type": "code",
   "execution_count": 14,
   "metadata": {},
   "outputs": [
    {
     "name": "stdout",
     "output_type": "stream",
     "text": [
      "20183867\n"
     ]
    }
   ],
   "source": [
    "print(movie_code)"
   ]
  },
  {
   "cell_type": "code",
   "execution_count": 18,
   "metadata": {},
   "outputs": [],
   "source": [
    "movie_info_search(movie_code)"
   ]
  },
  {
   "cell_type": "code",
   "execution_count": null,
   "metadata": {},
   "outputs": [],
   "source": []
  }
 ],
 "metadata": {
  "kernelspec": {
   "display_name": "Python 3",
   "language": "python",
   "name": "python3"
  },
  "language_info": {
   "codemirror_mode": {
    "name": "ipython",
    "version": 3
   },
   "file_extension": ".py",
   "mimetype": "text/x-python",
   "name": "python",
   "nbconvert_exporter": "python",
   "pygments_lexer": "ipython3",
   "version": "3.7.3"
  }
 },
 "nbformat": 4,
 "nbformat_minor": 4
}
